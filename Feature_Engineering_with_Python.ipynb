{
  "cells": [
    {
      "cell_type": "markdown",
      "metadata": {
        "id": "YipovKVnPkf3"
      },
      "source": [
        "# Importing Libraries"
      ]
    },
    {
      "cell_type": "code",
      "execution_count": null,
      "metadata": {
        "id": "nBfpIXEPPkf-"
      },
      "outputs": [],
      "source": [
        "import numpy as np\n",
        "import pandas as pd\n",
        "import seaborn as sns\n",
        "import plotly.express as px\n",
        "import matplotlib.pyplot as plt\n",
        "\n",
        "# Setting environment to ignore future warnings\n",
        "import warnings\n",
        "warnings.simplefilter('ignore')"
      ]
    },
    {
      "cell_type": "markdown",
      "metadata": {
        "id": "Y51VKumIPkgB"
      },
      "source": [
        "# Loading Data"
      ]
    },
    {
      "cell_type": "code",
      "execution_count": null,
      "metadata": {
        "colab": {
          "base_uri": "https://localhost:8080/",
          "height": 461
        },
        "id": "bavd9g2aPkgB",
        "outputId": "79f9f32c-77ab-4302-a461-d22517bf8998"
      },
      "outputs": [
        {
          "output_type": "execute_result",
          "data": {
            "text/html": [
              "\n",
              "  <div id=\"df-6002ad8d-7d67-4469-b683-e0e7911f637f\">\n",
              "    <div class=\"colab-df-container\">\n",
              "      <div>\n",
              "<style scoped>\n",
              "    .dataframe tbody tr th:only-of-type {\n",
              "        vertical-align: middle;\n",
              "    }\n",
              "\n",
              "    .dataframe tbody tr th {\n",
              "        vertical-align: top;\n",
              "    }\n",
              "\n",
              "    .dataframe thead th {\n",
              "        text-align: right;\n",
              "    }\n",
              "</style>\n",
              "<table border=\"1\" class=\"dataframe\">\n",
              "  <thead>\n",
              "    <tr style=\"text-align: right;\">\n",
              "      <th></th>\n",
              "      <th>Order No</th>\n",
              "      <th>User Id</th>\n",
              "      <th>Vehicle Type</th>\n",
              "      <th>Platform Type</th>\n",
              "      <th>Personal or Business</th>\n",
              "      <th>Placement - Day of Month</th>\n",
              "      <th>Placement - Weekday (Mo = 1)</th>\n",
              "      <th>Placement - Time</th>\n",
              "      <th>Confirmation - Day of Month</th>\n",
              "      <th>Confirmation - Weekday (Mo = 1)</th>\n",
              "      <th>Confirmation - Time</th>\n",
              "      <th>Arrival at Pickup - Day of Month</th>\n",
              "      <th>Arrival at Pickup - Weekday (Mo = 1)</th>\n",
              "      <th>Arrival at Pickup - Time</th>\n",
              "      <th>Pickup - Day of Month</th>\n",
              "      <th>Pickup - Weekday (Mo = 1)</th>\n",
              "      <th>Pickup - Time</th>\n",
              "      <th>Arrival at Destination - Day of Month</th>\n",
              "      <th>Arrival at Destination - Weekday (Mo = 1)</th>\n",
              "      <th>Arrival at Destination - Time</th>\n",
              "      <th>Distance (KM)</th>\n",
              "      <th>Temperature</th>\n",
              "      <th>Precipitation in millimeters</th>\n",
              "      <th>Pickup Lat</th>\n",
              "      <th>Pickup Long</th>\n",
              "      <th>Destination Lat</th>\n",
              "      <th>Destination Long</th>\n",
              "      <th>Rider Id</th>\n",
              "      <th>Time from Pickup to Arrival</th>\n",
              "    </tr>\n",
              "  </thead>\n",
              "  <tbody>\n",
              "    <tr>\n",
              "      <th>0</th>\n",
              "      <td>Order_No_4211</td>\n",
              "      <td>User_Id_633</td>\n",
              "      <td>Bike</td>\n",
              "      <td>3</td>\n",
              "      <td>Business</td>\n",
              "      <td>9</td>\n",
              "      <td>5</td>\n",
              "      <td>9:35:46 AM</td>\n",
              "      <td>9</td>\n",
              "      <td>5</td>\n",
              "      <td>9:40:10 AM</td>\n",
              "      <td>9</td>\n",
              "      <td>5</td>\n",
              "      <td>10:04:47 AM</td>\n",
              "      <td>9</td>\n",
              "      <td>5</td>\n",
              "      <td>10:27:30 AM</td>\n",
              "      <td>9</td>\n",
              "      <td>5</td>\n",
              "      <td>10:39:55 AM</td>\n",
              "      <td>4</td>\n",
              "      <td>20.4</td>\n",
              "      <td>NaN</td>\n",
              "      <td>-1.317755</td>\n",
              "      <td>36.830370</td>\n",
              "      <td>-1.300406</td>\n",
              "      <td>36.829741</td>\n",
              "      <td>Rider_Id_432</td>\n",
              "      <td>745</td>\n",
              "    </tr>\n",
              "    <tr>\n",
              "      <th>1</th>\n",
              "      <td>Order_No_25375</td>\n",
              "      <td>User_Id_2285</td>\n",
              "      <td>Bike</td>\n",
              "      <td>3</td>\n",
              "      <td>Personal</td>\n",
              "      <td>12</td>\n",
              "      <td>5</td>\n",
              "      <td>11:16:16 AM</td>\n",
              "      <td>12</td>\n",
              "      <td>5</td>\n",
              "      <td>11:23:21 AM</td>\n",
              "      <td>12</td>\n",
              "      <td>5</td>\n",
              "      <td>11:40:22 AM</td>\n",
              "      <td>12</td>\n",
              "      <td>5</td>\n",
              "      <td>11:44:09 AM</td>\n",
              "      <td>12</td>\n",
              "      <td>5</td>\n",
              "      <td>12:17:22 PM</td>\n",
              "      <td>16</td>\n",
              "      <td>26.4</td>\n",
              "      <td>NaN</td>\n",
              "      <td>-1.351453</td>\n",
              "      <td>36.899315</td>\n",
              "      <td>-1.295004</td>\n",
              "      <td>36.814358</td>\n",
              "      <td>Rider_Id_856</td>\n",
              "      <td>1993</td>\n",
              "    </tr>\n",
              "    <tr>\n",
              "      <th>2</th>\n",
              "      <td>Order_No_1899</td>\n",
              "      <td>User_Id_265</td>\n",
              "      <td>Bike</td>\n",
              "      <td>3</td>\n",
              "      <td>Business</td>\n",
              "      <td>30</td>\n",
              "      <td>2</td>\n",
              "      <td>12:39:25 PM</td>\n",
              "      <td>30</td>\n",
              "      <td>2</td>\n",
              "      <td>12:42:44 PM</td>\n",
              "      <td>30</td>\n",
              "      <td>2</td>\n",
              "      <td>12:49:34 PM</td>\n",
              "      <td>30</td>\n",
              "      <td>2</td>\n",
              "      <td>12:53:03 PM</td>\n",
              "      <td>30</td>\n",
              "      <td>2</td>\n",
              "      <td>1:00:38 PM</td>\n",
              "      <td>3</td>\n",
              "      <td>NaN</td>\n",
              "      <td>NaN</td>\n",
              "      <td>-1.308284</td>\n",
              "      <td>36.843419</td>\n",
              "      <td>-1.300921</td>\n",
              "      <td>36.828195</td>\n",
              "      <td>Rider_Id_155</td>\n",
              "      <td>455</td>\n",
              "    </tr>\n",
              "    <tr>\n",
              "      <th>3</th>\n",
              "      <td>Order_No_9336</td>\n",
              "      <td>User_Id_1402</td>\n",
              "      <td>Bike</td>\n",
              "      <td>3</td>\n",
              "      <td>Business</td>\n",
              "      <td>15</td>\n",
              "      <td>5</td>\n",
              "      <td>9:25:34 AM</td>\n",
              "      <td>15</td>\n",
              "      <td>5</td>\n",
              "      <td>9:26:05 AM</td>\n",
              "      <td>15</td>\n",
              "      <td>5</td>\n",
              "      <td>9:37:56 AM</td>\n",
              "      <td>15</td>\n",
              "      <td>5</td>\n",
              "      <td>9:43:06 AM</td>\n",
              "      <td>15</td>\n",
              "      <td>5</td>\n",
              "      <td>10:05:27 AM</td>\n",
              "      <td>9</td>\n",
              "      <td>19.2</td>\n",
              "      <td>NaN</td>\n",
              "      <td>-1.281301</td>\n",
              "      <td>36.832396</td>\n",
              "      <td>-1.257147</td>\n",
              "      <td>36.795063</td>\n",
              "      <td>Rider_Id_855</td>\n",
              "      <td>1341</td>\n",
              "    </tr>\n",
              "    <tr>\n",
              "      <th>4</th>\n",
              "      <td>Order_No_27883</td>\n",
              "      <td>User_Id_1737</td>\n",
              "      <td>Bike</td>\n",
              "      <td>1</td>\n",
              "      <td>Personal</td>\n",
              "      <td>13</td>\n",
              "      <td>1</td>\n",
              "      <td>9:55:18 AM</td>\n",
              "      <td>13</td>\n",
              "      <td>1</td>\n",
              "      <td>9:56:18 AM</td>\n",
              "      <td>13</td>\n",
              "      <td>1</td>\n",
              "      <td>10:03:53 AM</td>\n",
              "      <td>13</td>\n",
              "      <td>1</td>\n",
              "      <td>10:05:23 AM</td>\n",
              "      <td>13</td>\n",
              "      <td>1</td>\n",
              "      <td>10:25:37 AM</td>\n",
              "      <td>9</td>\n",
              "      <td>15.4</td>\n",
              "      <td>NaN</td>\n",
              "      <td>-1.266597</td>\n",
              "      <td>36.792118</td>\n",
              "      <td>-1.295041</td>\n",
              "      <td>36.809817</td>\n",
              "      <td>Rider_Id_770</td>\n",
              "      <td>1214</td>\n",
              "    </tr>\n",
              "  </tbody>\n",
              "</table>\n",
              "</div>\n",
              "      <button class=\"colab-df-convert\" onclick=\"convertToInteractive('df-6002ad8d-7d67-4469-b683-e0e7911f637f')\"\n",
              "              title=\"Convert this dataframe to an interactive table.\"\n",
              "              style=\"display:none;\">\n",
              "        \n",
              "  <svg xmlns=\"http://www.w3.org/2000/svg\" height=\"24px\"viewBox=\"0 0 24 24\"\n",
              "       width=\"24px\">\n",
              "    <path d=\"M0 0h24v24H0V0z\" fill=\"none\"/>\n",
              "    <path d=\"M18.56 5.44l.94 2.06.94-2.06 2.06-.94-2.06-.94-.94-2.06-.94 2.06-2.06.94zm-11 1L8.5 8.5l.94-2.06 2.06-.94-2.06-.94L8.5 2.5l-.94 2.06-2.06.94zm10 10l.94 2.06.94-2.06 2.06-.94-2.06-.94-.94-2.06-.94 2.06-2.06.94z\"/><path d=\"M17.41 7.96l-1.37-1.37c-.4-.4-.92-.59-1.43-.59-.52 0-1.04.2-1.43.59L10.3 9.45l-7.72 7.72c-.78.78-.78 2.05 0 2.83L4 21.41c.39.39.9.59 1.41.59.51 0 1.02-.2 1.41-.59l7.78-7.78 2.81-2.81c.8-.78.8-2.07 0-2.86zM5.41 20L4 18.59l7.72-7.72 1.47 1.35L5.41 20z\"/>\n",
              "  </svg>\n",
              "      </button>\n",
              "      \n",
              "  <style>\n",
              "    .colab-df-container {\n",
              "      display:flex;\n",
              "      flex-wrap:wrap;\n",
              "      gap: 12px;\n",
              "    }\n",
              "\n",
              "    .colab-df-convert {\n",
              "      background-color: #E8F0FE;\n",
              "      border: none;\n",
              "      border-radius: 50%;\n",
              "      cursor: pointer;\n",
              "      display: none;\n",
              "      fill: #1967D2;\n",
              "      height: 32px;\n",
              "      padding: 0 0 0 0;\n",
              "      width: 32px;\n",
              "    }\n",
              "\n",
              "    .colab-df-convert:hover {\n",
              "      background-color: #E2EBFA;\n",
              "      box-shadow: 0px 1px 2px rgba(60, 64, 67, 0.3), 0px 1px 3px 1px rgba(60, 64, 67, 0.15);\n",
              "      fill: #174EA6;\n",
              "    }\n",
              "\n",
              "    [theme=dark] .colab-df-convert {\n",
              "      background-color: #3B4455;\n",
              "      fill: #D2E3FC;\n",
              "    }\n",
              "\n",
              "    [theme=dark] .colab-df-convert:hover {\n",
              "      background-color: #434B5C;\n",
              "      box-shadow: 0px 1px 3px 1px rgba(0, 0, 0, 0.15);\n",
              "      filter: drop-shadow(0px 1px 2px rgba(0, 0, 0, 0.3));\n",
              "      fill: #FFFFFF;\n",
              "    }\n",
              "  </style>\n",
              "\n",
              "      <script>\n",
              "        const buttonEl =\n",
              "          document.querySelector('#df-6002ad8d-7d67-4469-b683-e0e7911f637f button.colab-df-convert');\n",
              "        buttonEl.style.display =\n",
              "          google.colab.kernel.accessAllowed ? 'block' : 'none';\n",
              "\n",
              "        async function convertToInteractive(key) {\n",
              "          const element = document.querySelector('#df-6002ad8d-7d67-4469-b683-e0e7911f637f');\n",
              "          const dataTable =\n",
              "            await google.colab.kernel.invokeFunction('convertToInteractive',\n",
              "                                                     [key], {});\n",
              "          if (!dataTable) return;\n",
              "\n",
              "          const docLinkHtml = 'Like what you see? Visit the ' +\n",
              "            '<a target=\"_blank\" href=https://colab.research.google.com/notebooks/data_table.ipynb>data table notebook</a>'\n",
              "            + ' to learn more about interactive tables.';\n",
              "          element.innerHTML = '';\n",
              "          dataTable['output_type'] = 'display_data';\n",
              "          await google.colab.output.renderOutput(dataTable, element);\n",
              "          const docLink = document.createElement('div');\n",
              "          docLink.innerHTML = docLinkHtml;\n",
              "          element.appendChild(docLink);\n",
              "        }\n",
              "      </script>\n",
              "    </div>\n",
              "  </div>\n",
              "  "
            ],
            "text/plain": [
              "         Order No       User Id Vehicle Type  Platform Type  \\\n",
              "0   Order_No_4211   User_Id_633         Bike              3   \n",
              "1  Order_No_25375  User_Id_2285         Bike              3   \n",
              "2   Order_No_1899   User_Id_265         Bike              3   \n",
              "3   Order_No_9336  User_Id_1402         Bike              3   \n",
              "4  Order_No_27883  User_Id_1737         Bike              1   \n",
              "\n",
              "  Personal or Business  Placement - Day of Month  \\\n",
              "0             Business                         9   \n",
              "1             Personal                        12   \n",
              "2             Business                        30   \n",
              "3             Business                        15   \n",
              "4             Personal                        13   \n",
              "\n",
              "   Placement - Weekday (Mo = 1) Placement - Time  Confirmation - Day of Month  \\\n",
              "0                             5       9:35:46 AM                            9   \n",
              "1                             5      11:16:16 AM                           12   \n",
              "2                             2      12:39:25 PM                           30   \n",
              "3                             5       9:25:34 AM                           15   \n",
              "4                             1       9:55:18 AM                           13   \n",
              "\n",
              "   Confirmation - Weekday (Mo = 1) Confirmation - Time  \\\n",
              "0                                5          9:40:10 AM   \n",
              "1                                5         11:23:21 AM   \n",
              "2                                2         12:42:44 PM   \n",
              "3                                5          9:26:05 AM   \n",
              "4                                1          9:56:18 AM   \n",
              "\n",
              "   Arrival at Pickup - Day of Month  Arrival at Pickup - Weekday (Mo = 1)  \\\n",
              "0                                 9                                     5   \n",
              "1                                12                                     5   \n",
              "2                                30                                     2   \n",
              "3                                15                                     5   \n",
              "4                                13                                     1   \n",
              "\n",
              "  Arrival at Pickup - Time  Pickup - Day of Month  Pickup - Weekday (Mo = 1)  \\\n",
              "0              10:04:47 AM                      9                          5   \n",
              "1              11:40:22 AM                     12                          5   \n",
              "2              12:49:34 PM                     30                          2   \n",
              "3               9:37:56 AM                     15                          5   \n",
              "4              10:03:53 AM                     13                          1   \n",
              "\n",
              "  Pickup - Time  Arrival at Destination - Day of Month  \\\n",
              "0   10:27:30 AM                                      9   \n",
              "1   11:44:09 AM                                     12   \n",
              "2   12:53:03 PM                                     30   \n",
              "3    9:43:06 AM                                     15   \n",
              "4   10:05:23 AM                                     13   \n",
              "\n",
              "   Arrival at Destination - Weekday (Mo = 1) Arrival at Destination - Time  \\\n",
              "0                                          5                   10:39:55 AM   \n",
              "1                                          5                   12:17:22 PM   \n",
              "2                                          2                    1:00:38 PM   \n",
              "3                                          5                   10:05:27 AM   \n",
              "4                                          1                   10:25:37 AM   \n",
              "\n",
              "   Distance (KM)  Temperature  Precipitation in millimeters  Pickup Lat  \\\n",
              "0              4         20.4                           NaN   -1.317755   \n",
              "1             16         26.4                           NaN   -1.351453   \n",
              "2              3          NaN                           NaN   -1.308284   \n",
              "3              9         19.2                           NaN   -1.281301   \n",
              "4              9         15.4                           NaN   -1.266597   \n",
              "\n",
              "   Pickup Long  Destination Lat  Destination Long      Rider Id  \\\n",
              "0    36.830370        -1.300406         36.829741  Rider_Id_432   \n",
              "1    36.899315        -1.295004         36.814358  Rider_Id_856   \n",
              "2    36.843419        -1.300921         36.828195  Rider_Id_155   \n",
              "3    36.832396        -1.257147         36.795063  Rider_Id_855   \n",
              "4    36.792118        -1.295041         36.809817  Rider_Id_770   \n",
              "\n",
              "   Time from Pickup to Arrival  \n",
              "0                          745  \n",
              "1                         1993  \n",
              "2                          455  \n",
              "3                         1341  \n",
              "4                         1214  "
            ]
          },
          "metadata": {},
          "execution_count": 2
        }
      ],
      "source": [
        "df = pd.read_csv(\"https://raw.githubusercontent.com/risenW/Practical_feature_engineering_guide/master/sendy_logistics.csv\")\n",
        "pd.set_option('max_columns', 30)\n",
        "df.head()"
      ]
    },
    {
      "cell_type": "code",
      "execution_count": null,
      "metadata": {
        "colab": {
          "base_uri": "https://localhost:8080/"
        },
        "id": "EEVFrTpFPkgD",
        "outputId": "32c99a4f-b06c-415e-d2a7-d04b92c5617f"
      },
      "outputs": [
        {
          "output_type": "execute_result",
          "data": {
            "text/plain": [
              "(21201, 29)"
            ]
          },
          "metadata": {},
          "execution_count": 3
        }
      ],
      "source": [
        "df.shape"
      ]
    },
    {
      "cell_type": "code",
      "execution_count": null,
      "metadata": {
        "colab": {
          "base_uri": "https://localhost:8080/"
        },
        "id": "whKIF42pPkgD",
        "outputId": "a9f6fd36-db87-48c1-a82b-b4ab071b6585"
      },
      "outputs": [
        {
          "output_type": "stream",
          "name": "stdout",
          "text": [
            "<class 'pandas.core.frame.DataFrame'>\n",
            "RangeIndex: 21201 entries, 0 to 21200\n",
            "Data columns (total 29 columns):\n",
            " #   Column                                     Non-Null Count  Dtype  \n",
            "---  ------                                     --------------  -----  \n",
            " 0   Order No                                   21201 non-null  object \n",
            " 1   User Id                                    21201 non-null  object \n",
            " 2   Vehicle Type                               21201 non-null  object \n",
            " 3   Platform Type                              21201 non-null  int64  \n",
            " 4   Personal or Business                       21201 non-null  object \n",
            " 5   Placement - Day of Month                   21201 non-null  int64  \n",
            " 6   Placement - Weekday (Mo = 1)               21201 non-null  int64  \n",
            " 7   Placement - Time                           21201 non-null  object \n",
            " 8   Confirmation - Day of Month                21201 non-null  int64  \n",
            " 9   Confirmation - Weekday (Mo = 1)            21201 non-null  int64  \n",
            " 10  Confirmation - Time                        21201 non-null  object \n",
            " 11  Arrival at Pickup - Day of Month           21201 non-null  int64  \n",
            " 12  Arrival at Pickup - Weekday (Mo = 1)       21201 non-null  int64  \n",
            " 13  Arrival at Pickup - Time                   21201 non-null  object \n",
            " 14  Pickup - Day of Month                      21201 non-null  int64  \n",
            " 15  Pickup - Weekday (Mo = 1)                  21201 non-null  int64  \n",
            " 16  Pickup - Time                              21201 non-null  object \n",
            " 17  Arrival at Destination - Day of Month      21201 non-null  int64  \n",
            " 18  Arrival at Destination - Weekday (Mo = 1)  21201 non-null  int64  \n",
            " 19  Arrival at Destination - Time              21201 non-null  object \n",
            " 20  Distance (KM)                              21201 non-null  int64  \n",
            " 21  Temperature                                16835 non-null  float64\n",
            " 22  Precipitation in millimeters               552 non-null    float64\n",
            " 23  Pickup Lat                                 21201 non-null  float64\n",
            " 24  Pickup Long                                21201 non-null  float64\n",
            " 25  Destination Lat                            21201 non-null  float64\n",
            " 26  Destination Long                           21201 non-null  float64\n",
            " 27  Rider Id                                   21201 non-null  object \n",
            " 28  Time from Pickup to Arrival                21201 non-null  int64  \n",
            "dtypes: float64(6), int64(13), object(10)\n",
            "memory usage: 4.7+ MB\n"
          ]
        }
      ],
      "source": [
        "df.info()"
      ]
    },
    {
      "cell_type": "code",
      "execution_count": null,
      "metadata": {
        "colab": {
          "base_uri": "https://localhost:8080/",
          "height": 528
        },
        "id": "VOvvbR3MPkgE",
        "outputId": "0c1bfd38-53ce-4398-e100-b861b8cbe0b4"
      },
      "outputs": [
        {
          "output_type": "execute_result",
          "data": {
            "text/html": [
              "\n",
              "  <div id=\"df-a8593afe-8612-47d6-a3b4-31f7b7cf21ce\">\n",
              "    <div class=\"colab-df-container\">\n",
              "      <div>\n",
              "<style scoped>\n",
              "    .dataframe tbody tr th:only-of-type {\n",
              "        vertical-align: middle;\n",
              "    }\n",
              "\n",
              "    .dataframe tbody tr th {\n",
              "        vertical-align: top;\n",
              "    }\n",
              "\n",
              "    .dataframe thead th {\n",
              "        text-align: right;\n",
              "    }\n",
              "</style>\n",
              "<table border=\"1\" class=\"dataframe\">\n",
              "  <thead>\n",
              "    <tr style=\"text-align: right;\">\n",
              "      <th></th>\n",
              "      <th>Order No</th>\n",
              "      <th>User Id</th>\n",
              "      <th>Vehicle Type</th>\n",
              "      <th>Platform Type</th>\n",
              "      <th>Personal or Business</th>\n",
              "      <th>Placement - Day of Month</th>\n",
              "      <th>Placement - Weekday (Mo = 1)</th>\n",
              "      <th>Placement - Time</th>\n",
              "      <th>Confirmation - Day of Month</th>\n",
              "      <th>Confirmation - Weekday (Mo = 1)</th>\n",
              "      <th>Confirmation - Time</th>\n",
              "      <th>Arrival at Pickup - Day of Month</th>\n",
              "      <th>Arrival at Pickup - Weekday (Mo = 1)</th>\n",
              "      <th>Arrival at Pickup - Time</th>\n",
              "      <th>Pickup - Day of Month</th>\n",
              "      <th>Pickup - Weekday (Mo = 1)</th>\n",
              "      <th>Pickup - Time</th>\n",
              "      <th>Arrival at Destination - Day of Month</th>\n",
              "      <th>Arrival at Destination - Weekday (Mo = 1)</th>\n",
              "      <th>Arrival at Destination - Time</th>\n",
              "      <th>Distance (KM)</th>\n",
              "      <th>Temperature</th>\n",
              "      <th>Precipitation in millimeters</th>\n",
              "      <th>Pickup Lat</th>\n",
              "      <th>Pickup Long</th>\n",
              "      <th>Destination Lat</th>\n",
              "      <th>Destination Long</th>\n",
              "      <th>Rider Id</th>\n",
              "      <th>Time from Pickup to Arrival</th>\n",
              "    </tr>\n",
              "  </thead>\n",
              "  <tbody>\n",
              "    <tr>\n",
              "      <th>count</th>\n",
              "      <td>21201</td>\n",
              "      <td>21201</td>\n",
              "      <td>21201</td>\n",
              "      <td>21201.000000</td>\n",
              "      <td>21201</td>\n",
              "      <td>21201.000000</td>\n",
              "      <td>21201.000000</td>\n",
              "      <td>21201</td>\n",
              "      <td>21201.000000</td>\n",
              "      <td>21201.000000</td>\n",
              "      <td>21201</td>\n",
              "      <td>21201.000000</td>\n",
              "      <td>21201.000000</td>\n",
              "      <td>21201</td>\n",
              "      <td>21201.000000</td>\n",
              "      <td>21201.000000</td>\n",
              "      <td>21201</td>\n",
              "      <td>21201.000000</td>\n",
              "      <td>21201.000000</td>\n",
              "      <td>21201</td>\n",
              "      <td>21201.000000</td>\n",
              "      <td>16835.000000</td>\n",
              "      <td>552.000000</td>\n",
              "      <td>21201.000000</td>\n",
              "      <td>21201.000000</td>\n",
              "      <td>21201.000000</td>\n",
              "      <td>21201.000000</td>\n",
              "      <td>21201</td>\n",
              "      <td>21201.000000</td>\n",
              "    </tr>\n",
              "    <tr>\n",
              "      <th>unique</th>\n",
              "      <td>21201</td>\n",
              "      <td>3186</td>\n",
              "      <td>1</td>\n",
              "      <td>NaN</td>\n",
              "      <td>2</td>\n",
              "      <td>NaN</td>\n",
              "      <td>NaN</td>\n",
              "      <td>15686</td>\n",
              "      <td>NaN</td>\n",
              "      <td>NaN</td>\n",
              "      <td>15742</td>\n",
              "      <td>NaN</td>\n",
              "      <td>NaN</td>\n",
              "      <td>15767</td>\n",
              "      <td>NaN</td>\n",
              "      <td>NaN</td>\n",
              "      <td>15690</td>\n",
              "      <td>NaN</td>\n",
              "      <td>NaN</td>\n",
              "      <td>15725</td>\n",
              "      <td>NaN</td>\n",
              "      <td>NaN</td>\n",
              "      <td>NaN</td>\n",
              "      <td>NaN</td>\n",
              "      <td>NaN</td>\n",
              "      <td>NaN</td>\n",
              "      <td>NaN</td>\n",
              "      <td>924</td>\n",
              "      <td>NaN</td>\n",
              "    </tr>\n",
              "    <tr>\n",
              "      <th>top</th>\n",
              "      <td>Order_No_6135</td>\n",
              "      <td>User_Id_393</td>\n",
              "      <td>Bike</td>\n",
              "      <td>NaN</td>\n",
              "      <td>Business</td>\n",
              "      <td>NaN</td>\n",
              "      <td>NaN</td>\n",
              "      <td>9:41:03 AM</td>\n",
              "      <td>NaN</td>\n",
              "      <td>NaN</td>\n",
              "      <td>9:56:52 AM</td>\n",
              "      <td>NaN</td>\n",
              "      <td>NaN</td>\n",
              "      <td>2:32:04 PM</td>\n",
              "      <td>NaN</td>\n",
              "      <td>NaN</td>\n",
              "      <td>10:53:20 AM</td>\n",
              "      <td>NaN</td>\n",
              "      <td>NaN</td>\n",
              "      <td>3:24:03 PM</td>\n",
              "      <td>NaN</td>\n",
              "      <td>NaN</td>\n",
              "      <td>NaN</td>\n",
              "      <td>NaN</td>\n",
              "      <td>NaN</td>\n",
              "      <td>NaN</td>\n",
              "      <td>NaN</td>\n",
              "      <td>Rider_Id_726</td>\n",
              "      <td>NaN</td>\n",
              "    </tr>\n",
              "    <tr>\n",
              "      <th>freq</th>\n",
              "      <td>1</td>\n",
              "      <td>645</td>\n",
              "      <td>21201</td>\n",
              "      <td>NaN</td>\n",
              "      <td>17384</td>\n",
              "      <td>NaN</td>\n",
              "      <td>NaN</td>\n",
              "      <td>6</td>\n",
              "      <td>NaN</td>\n",
              "      <td>NaN</td>\n",
              "      <td>6</td>\n",
              "      <td>NaN</td>\n",
              "      <td>NaN</td>\n",
              "      <td>6</td>\n",
              "      <td>NaN</td>\n",
              "      <td>NaN</td>\n",
              "      <td>6</td>\n",
              "      <td>NaN</td>\n",
              "      <td>NaN</td>\n",
              "      <td>7</td>\n",
              "      <td>NaN</td>\n",
              "      <td>NaN</td>\n",
              "      <td>NaN</td>\n",
              "      <td>NaN</td>\n",
              "      <td>NaN</td>\n",
              "      <td>NaN</td>\n",
              "      <td>NaN</td>\n",
              "      <td>247</td>\n",
              "      <td>NaN</td>\n",
              "    </tr>\n",
              "    <tr>\n",
              "      <th>mean</th>\n",
              "      <td>NaN</td>\n",
              "      <td>NaN</td>\n",
              "      <td>NaN</td>\n",
              "      <td>2.752182</td>\n",
              "      <td>NaN</td>\n",
              "      <td>15.653696</td>\n",
              "      <td>3.240083</td>\n",
              "      <td>NaN</td>\n",
              "      <td>15.653837</td>\n",
              "      <td>3.240225</td>\n",
              "      <td>NaN</td>\n",
              "      <td>15.653837</td>\n",
              "      <td>3.240225</td>\n",
              "      <td>NaN</td>\n",
              "      <td>15.653837</td>\n",
              "      <td>3.240225</td>\n",
              "      <td>NaN</td>\n",
              "      <td>15.653837</td>\n",
              "      <td>3.240225</td>\n",
              "      <td>NaN</td>\n",
              "      <td>9.506533</td>\n",
              "      <td>23.258889</td>\n",
              "      <td>7.905797</td>\n",
              "      <td>-1.281470</td>\n",
              "      <td>36.811264</td>\n",
              "      <td>-1.282581</td>\n",
              "      <td>36.811220</td>\n",
              "      <td>NaN</td>\n",
              "      <td>1556.920947</td>\n",
              "    </tr>\n",
              "    <tr>\n",
              "      <th>std</th>\n",
              "      <td>NaN</td>\n",
              "      <td>NaN</td>\n",
              "      <td>NaN</td>\n",
              "      <td>0.625178</td>\n",
              "      <td>NaN</td>\n",
              "      <td>8.798916</td>\n",
              "      <td>1.567295</td>\n",
              "      <td>NaN</td>\n",
              "      <td>8.798886</td>\n",
              "      <td>1.567228</td>\n",
              "      <td>NaN</td>\n",
              "      <td>8.798886</td>\n",
              "      <td>1.567228</td>\n",
              "      <td>NaN</td>\n",
              "      <td>8.798886</td>\n",
              "      <td>1.567228</td>\n",
              "      <td>NaN</td>\n",
              "      <td>8.798886</td>\n",
              "      <td>1.567228</td>\n",
              "      <td>NaN</td>\n",
              "      <td>5.668963</td>\n",
              "      <td>3.615768</td>\n",
              "      <td>17.089971</td>\n",
              "      <td>0.030507</td>\n",
              "      <td>0.037473</td>\n",
              "      <td>0.034824</td>\n",
              "      <td>0.044721</td>\n",
              "      <td>NaN</td>\n",
              "      <td>987.270788</td>\n",
              "    </tr>\n",
              "    <tr>\n",
              "      <th>min</th>\n",
              "      <td>NaN</td>\n",
              "      <td>NaN</td>\n",
              "      <td>NaN</td>\n",
              "      <td>1.000000</td>\n",
              "      <td>NaN</td>\n",
              "      <td>1.000000</td>\n",
              "      <td>1.000000</td>\n",
              "      <td>NaN</td>\n",
              "      <td>1.000000</td>\n",
              "      <td>1.000000</td>\n",
              "      <td>NaN</td>\n",
              "      <td>1.000000</td>\n",
              "      <td>1.000000</td>\n",
              "      <td>NaN</td>\n",
              "      <td>1.000000</td>\n",
              "      <td>1.000000</td>\n",
              "      <td>NaN</td>\n",
              "      <td>1.000000</td>\n",
              "      <td>1.000000</td>\n",
              "      <td>NaN</td>\n",
              "      <td>1.000000</td>\n",
              "      <td>11.200000</td>\n",
              "      <td>0.100000</td>\n",
              "      <td>-1.438302</td>\n",
              "      <td>36.653621</td>\n",
              "      <td>-1.430298</td>\n",
              "      <td>36.606594</td>\n",
              "      <td>NaN</td>\n",
              "      <td>1.000000</td>\n",
              "    </tr>\n",
              "    <tr>\n",
              "      <th>25%</th>\n",
              "      <td>NaN</td>\n",
              "      <td>NaN</td>\n",
              "      <td>NaN</td>\n",
              "      <td>3.000000</td>\n",
              "      <td>NaN</td>\n",
              "      <td>8.000000</td>\n",
              "      <td>2.000000</td>\n",
              "      <td>NaN</td>\n",
              "      <td>8.000000</td>\n",
              "      <td>2.000000</td>\n",
              "      <td>NaN</td>\n",
              "      <td>8.000000</td>\n",
              "      <td>2.000000</td>\n",
              "      <td>NaN</td>\n",
              "      <td>8.000000</td>\n",
              "      <td>2.000000</td>\n",
              "      <td>NaN</td>\n",
              "      <td>8.000000</td>\n",
              "      <td>2.000000</td>\n",
              "      <td>NaN</td>\n",
              "      <td>5.000000</td>\n",
              "      <td>20.600000</td>\n",
              "      <td>1.075000</td>\n",
              "      <td>-1.300921</td>\n",
              "      <td>36.784605</td>\n",
              "      <td>-1.301201</td>\n",
              "      <td>36.785661</td>\n",
              "      <td>NaN</td>\n",
              "      <td>882.000000</td>\n",
              "    </tr>\n",
              "    <tr>\n",
              "      <th>50%</th>\n",
              "      <td>NaN</td>\n",
              "      <td>NaN</td>\n",
              "      <td>NaN</td>\n",
              "      <td>3.000000</td>\n",
              "      <td>NaN</td>\n",
              "      <td>15.000000</td>\n",
              "      <td>3.000000</td>\n",
              "      <td>NaN</td>\n",
              "      <td>15.000000</td>\n",
              "      <td>3.000000</td>\n",
              "      <td>NaN</td>\n",
              "      <td>15.000000</td>\n",
              "      <td>3.000000</td>\n",
              "      <td>NaN</td>\n",
              "      <td>15.000000</td>\n",
              "      <td>3.000000</td>\n",
              "      <td>NaN</td>\n",
              "      <td>15.000000</td>\n",
              "      <td>3.000000</td>\n",
              "      <td>NaN</td>\n",
              "      <td>8.000000</td>\n",
              "      <td>23.500000</td>\n",
              "      <td>2.900000</td>\n",
              "      <td>-1.279395</td>\n",
              "      <td>36.807040</td>\n",
              "      <td>-1.284382</td>\n",
              "      <td>36.808002</td>\n",
              "      <td>NaN</td>\n",
              "      <td>1369.000000</td>\n",
              "    </tr>\n",
              "    <tr>\n",
              "      <th>75%</th>\n",
              "      <td>NaN</td>\n",
              "      <td>NaN</td>\n",
              "      <td>NaN</td>\n",
              "      <td>3.000000</td>\n",
              "      <td>NaN</td>\n",
              "      <td>23.000000</td>\n",
              "      <td>5.000000</td>\n",
              "      <td>NaN</td>\n",
              "      <td>23.000000</td>\n",
              "      <td>5.000000</td>\n",
              "      <td>NaN</td>\n",
              "      <td>23.000000</td>\n",
              "      <td>5.000000</td>\n",
              "      <td>NaN</td>\n",
              "      <td>23.000000</td>\n",
              "      <td>5.000000</td>\n",
              "      <td>NaN</td>\n",
              "      <td>23.000000</td>\n",
              "      <td>5.000000</td>\n",
              "      <td>NaN</td>\n",
              "      <td>13.000000</td>\n",
              "      <td>26.000000</td>\n",
              "      <td>4.900000</td>\n",
              "      <td>-1.257147</td>\n",
              "      <td>36.829741</td>\n",
              "      <td>-1.261177</td>\n",
              "      <td>36.829477</td>\n",
              "      <td>NaN</td>\n",
              "      <td>2040.000000</td>\n",
              "    </tr>\n",
              "    <tr>\n",
              "      <th>max</th>\n",
              "      <td>NaN</td>\n",
              "      <td>NaN</td>\n",
              "      <td>NaN</td>\n",
              "      <td>4.000000</td>\n",
              "      <td>NaN</td>\n",
              "      <td>31.000000</td>\n",
              "      <td>7.000000</td>\n",
              "      <td>NaN</td>\n",
              "      <td>31.000000</td>\n",
              "      <td>7.000000</td>\n",
              "      <td>NaN</td>\n",
              "      <td>31.000000</td>\n",
              "      <td>7.000000</td>\n",
              "      <td>NaN</td>\n",
              "      <td>31.000000</td>\n",
              "      <td>7.000000</td>\n",
              "      <td>NaN</td>\n",
              "      <td>31.000000</td>\n",
              "      <td>7.000000</td>\n",
              "      <td>NaN</td>\n",
              "      <td>49.000000</td>\n",
              "      <td>32.100000</td>\n",
              "      <td>99.100000</td>\n",
              "      <td>-1.147170</td>\n",
              "      <td>36.991046</td>\n",
              "      <td>-1.030225</td>\n",
              "      <td>37.016779</td>\n",
              "      <td>NaN</td>\n",
              "      <td>7883.000000</td>\n",
              "    </tr>\n",
              "  </tbody>\n",
              "</table>\n",
              "</div>\n",
              "      <button class=\"colab-df-convert\" onclick=\"convertToInteractive('df-a8593afe-8612-47d6-a3b4-31f7b7cf21ce')\"\n",
              "              title=\"Convert this dataframe to an interactive table.\"\n",
              "              style=\"display:none;\">\n",
              "        \n",
              "  <svg xmlns=\"http://www.w3.org/2000/svg\" height=\"24px\"viewBox=\"0 0 24 24\"\n",
              "       width=\"24px\">\n",
              "    <path d=\"M0 0h24v24H0V0z\" fill=\"none\"/>\n",
              "    <path d=\"M18.56 5.44l.94 2.06.94-2.06 2.06-.94-2.06-.94-.94-2.06-.94 2.06-2.06.94zm-11 1L8.5 8.5l.94-2.06 2.06-.94-2.06-.94L8.5 2.5l-.94 2.06-2.06.94zm10 10l.94 2.06.94-2.06 2.06-.94-2.06-.94-.94-2.06-.94 2.06-2.06.94z\"/><path d=\"M17.41 7.96l-1.37-1.37c-.4-.4-.92-.59-1.43-.59-.52 0-1.04.2-1.43.59L10.3 9.45l-7.72 7.72c-.78.78-.78 2.05 0 2.83L4 21.41c.39.39.9.59 1.41.59.51 0 1.02-.2 1.41-.59l7.78-7.78 2.81-2.81c.8-.78.8-2.07 0-2.86zM5.41 20L4 18.59l7.72-7.72 1.47 1.35L5.41 20z\"/>\n",
              "  </svg>\n",
              "      </button>\n",
              "      \n",
              "  <style>\n",
              "    .colab-df-container {\n",
              "      display:flex;\n",
              "      flex-wrap:wrap;\n",
              "      gap: 12px;\n",
              "    }\n",
              "\n",
              "    .colab-df-convert {\n",
              "      background-color: #E8F0FE;\n",
              "      border: none;\n",
              "      border-radius: 50%;\n",
              "      cursor: pointer;\n",
              "      display: none;\n",
              "      fill: #1967D2;\n",
              "      height: 32px;\n",
              "      padding: 0 0 0 0;\n",
              "      width: 32px;\n",
              "    }\n",
              "\n",
              "    .colab-df-convert:hover {\n",
              "      background-color: #E2EBFA;\n",
              "      box-shadow: 0px 1px 2px rgba(60, 64, 67, 0.3), 0px 1px 3px 1px rgba(60, 64, 67, 0.15);\n",
              "      fill: #174EA6;\n",
              "    }\n",
              "\n",
              "    [theme=dark] .colab-df-convert {\n",
              "      background-color: #3B4455;\n",
              "      fill: #D2E3FC;\n",
              "    }\n",
              "\n",
              "    [theme=dark] .colab-df-convert:hover {\n",
              "      background-color: #434B5C;\n",
              "      box-shadow: 0px 1px 3px 1px rgba(0, 0, 0, 0.15);\n",
              "      filter: drop-shadow(0px 1px 2px rgba(0, 0, 0, 0.3));\n",
              "      fill: #FFFFFF;\n",
              "    }\n",
              "  </style>\n",
              "\n",
              "      <script>\n",
              "        const buttonEl =\n",
              "          document.querySelector('#df-a8593afe-8612-47d6-a3b4-31f7b7cf21ce button.colab-df-convert');\n",
              "        buttonEl.style.display =\n",
              "          google.colab.kernel.accessAllowed ? 'block' : 'none';\n",
              "\n",
              "        async function convertToInteractive(key) {\n",
              "          const element = document.querySelector('#df-a8593afe-8612-47d6-a3b4-31f7b7cf21ce');\n",
              "          const dataTable =\n",
              "            await google.colab.kernel.invokeFunction('convertToInteractive',\n",
              "                                                     [key], {});\n",
              "          if (!dataTable) return;\n",
              "\n",
              "          const docLinkHtml = 'Like what you see? Visit the ' +\n",
              "            '<a target=\"_blank\" href=https://colab.research.google.com/notebooks/data_table.ipynb>data table notebook</a>'\n",
              "            + ' to learn more about interactive tables.';\n",
              "          element.innerHTML = '';\n",
              "          dataTable['output_type'] = 'display_data';\n",
              "          await google.colab.output.renderOutput(dataTable, element);\n",
              "          const docLink = document.createElement('div');\n",
              "          docLink.innerHTML = docLinkHtml;\n",
              "          element.appendChild(docLink);\n",
              "        }\n",
              "      </script>\n",
              "    </div>\n",
              "  </div>\n",
              "  "
            ],
            "text/plain": [
              "             Order No      User Id Vehicle Type  Platform Type  \\\n",
              "count           21201        21201        21201   21201.000000   \n",
              "unique          21201         3186            1            NaN   \n",
              "top     Order_No_6135  User_Id_393         Bike            NaN   \n",
              "freq                1          645        21201            NaN   \n",
              "mean              NaN          NaN          NaN       2.752182   \n",
              "std               NaN          NaN          NaN       0.625178   \n",
              "min               NaN          NaN          NaN       1.000000   \n",
              "25%               NaN          NaN          NaN       3.000000   \n",
              "50%               NaN          NaN          NaN       3.000000   \n",
              "75%               NaN          NaN          NaN       3.000000   \n",
              "max               NaN          NaN          NaN       4.000000   \n",
              "\n",
              "       Personal or Business  Placement - Day of Month  \\\n",
              "count                 21201              21201.000000   \n",
              "unique                    2                       NaN   \n",
              "top                Business                       NaN   \n",
              "freq                  17384                       NaN   \n",
              "mean                    NaN                 15.653696   \n",
              "std                     NaN                  8.798916   \n",
              "min                     NaN                  1.000000   \n",
              "25%                     NaN                  8.000000   \n",
              "50%                     NaN                 15.000000   \n",
              "75%                     NaN                 23.000000   \n",
              "max                     NaN                 31.000000   \n",
              "\n",
              "        Placement - Weekday (Mo = 1) Placement - Time  \\\n",
              "count                   21201.000000            21201   \n",
              "unique                           NaN            15686   \n",
              "top                              NaN       9:41:03 AM   \n",
              "freq                             NaN                6   \n",
              "mean                        3.240083              NaN   \n",
              "std                         1.567295              NaN   \n",
              "min                         1.000000              NaN   \n",
              "25%                         2.000000              NaN   \n",
              "50%                         3.000000              NaN   \n",
              "75%                         5.000000              NaN   \n",
              "max                         7.000000              NaN   \n",
              "\n",
              "        Confirmation - Day of Month  Confirmation - Weekday (Mo = 1)  \\\n",
              "count                  21201.000000                     21201.000000   \n",
              "unique                          NaN                              NaN   \n",
              "top                             NaN                              NaN   \n",
              "freq                            NaN                              NaN   \n",
              "mean                      15.653837                         3.240225   \n",
              "std                        8.798886                         1.567228   \n",
              "min                        1.000000                         1.000000   \n",
              "25%                        8.000000                         2.000000   \n",
              "50%                       15.000000                         3.000000   \n",
              "75%                       23.000000                         5.000000   \n",
              "max                       31.000000                         7.000000   \n",
              "\n",
              "       Confirmation - Time  Arrival at Pickup - Day of Month  \\\n",
              "count                21201                      21201.000000   \n",
              "unique               15742                               NaN   \n",
              "top             9:56:52 AM                               NaN   \n",
              "freq                     6                               NaN   \n",
              "mean                   NaN                         15.653837   \n",
              "std                    NaN                          8.798886   \n",
              "min                    NaN                          1.000000   \n",
              "25%                    NaN                          8.000000   \n",
              "50%                    NaN                         15.000000   \n",
              "75%                    NaN                         23.000000   \n",
              "max                    NaN                         31.000000   \n",
              "\n",
              "        Arrival at Pickup - Weekday (Mo = 1) Arrival at Pickup - Time  \\\n",
              "count                           21201.000000                    21201   \n",
              "unique                                   NaN                    15767   \n",
              "top                                      NaN               2:32:04 PM   \n",
              "freq                                     NaN                        6   \n",
              "mean                                3.240225                      NaN   \n",
              "std                                 1.567228                      NaN   \n",
              "min                                 1.000000                      NaN   \n",
              "25%                                 2.000000                      NaN   \n",
              "50%                                 3.000000                      NaN   \n",
              "75%                                 5.000000                      NaN   \n",
              "max                                 7.000000                      NaN   \n",
              "\n",
              "        Pickup - Day of Month  Pickup - Weekday (Mo = 1) Pickup - Time  \\\n",
              "count            21201.000000               21201.000000         21201   \n",
              "unique                    NaN                        NaN         15690   \n",
              "top                       NaN                        NaN   10:53:20 AM   \n",
              "freq                      NaN                        NaN             6   \n",
              "mean                15.653837                   3.240225           NaN   \n",
              "std                  8.798886                   1.567228           NaN   \n",
              "min                  1.000000                   1.000000           NaN   \n",
              "25%                  8.000000                   2.000000           NaN   \n",
              "50%                 15.000000                   3.000000           NaN   \n",
              "75%                 23.000000                   5.000000           NaN   \n",
              "max                 31.000000                   7.000000           NaN   \n",
              "\n",
              "        Arrival at Destination - Day of Month  \\\n",
              "count                            21201.000000   \n",
              "unique                                    NaN   \n",
              "top                                       NaN   \n",
              "freq                                      NaN   \n",
              "mean                                15.653837   \n",
              "std                                  8.798886   \n",
              "min                                  1.000000   \n",
              "25%                                  8.000000   \n",
              "50%                                 15.000000   \n",
              "75%                                 23.000000   \n",
              "max                                 31.000000   \n",
              "\n",
              "        Arrival at Destination - Weekday (Mo = 1)  \\\n",
              "count                                21201.000000   \n",
              "unique                                        NaN   \n",
              "top                                           NaN   \n",
              "freq                                          NaN   \n",
              "mean                                     3.240225   \n",
              "std                                      1.567228   \n",
              "min                                      1.000000   \n",
              "25%                                      2.000000   \n",
              "50%                                      3.000000   \n",
              "75%                                      5.000000   \n",
              "max                                      7.000000   \n",
              "\n",
              "       Arrival at Destination - Time  Distance (KM)   Temperature  \\\n",
              "count                          21201   21201.000000  16835.000000   \n",
              "unique                         15725            NaN           NaN   \n",
              "top                       3:24:03 PM            NaN           NaN   \n",
              "freq                               7            NaN           NaN   \n",
              "mean                             NaN       9.506533     23.258889   \n",
              "std                              NaN       5.668963      3.615768   \n",
              "min                              NaN       1.000000     11.200000   \n",
              "25%                              NaN       5.000000     20.600000   \n",
              "50%                              NaN       8.000000     23.500000   \n",
              "75%                              NaN      13.000000     26.000000   \n",
              "max                              NaN      49.000000     32.100000   \n",
              "\n",
              "        Precipitation in millimeters    Pickup Lat   Pickup Long  \\\n",
              "count                     552.000000  21201.000000  21201.000000   \n",
              "unique                           NaN           NaN           NaN   \n",
              "top                              NaN           NaN           NaN   \n",
              "freq                             NaN           NaN           NaN   \n",
              "mean                        7.905797     -1.281470     36.811264   \n",
              "std                        17.089971      0.030507      0.037473   \n",
              "min                         0.100000     -1.438302     36.653621   \n",
              "25%                         1.075000     -1.300921     36.784605   \n",
              "50%                         2.900000     -1.279395     36.807040   \n",
              "75%                         4.900000     -1.257147     36.829741   \n",
              "max                        99.100000     -1.147170     36.991046   \n",
              "\n",
              "        Destination Lat  Destination Long      Rider Id  \\\n",
              "count      21201.000000      21201.000000         21201   \n",
              "unique              NaN               NaN           924   \n",
              "top                 NaN               NaN  Rider_Id_726   \n",
              "freq                NaN               NaN           247   \n",
              "mean          -1.282581         36.811220           NaN   \n",
              "std            0.034824          0.044721           NaN   \n",
              "min           -1.430298         36.606594           NaN   \n",
              "25%           -1.301201         36.785661           NaN   \n",
              "50%           -1.284382         36.808002           NaN   \n",
              "75%           -1.261177         36.829477           NaN   \n",
              "max           -1.030225         37.016779           NaN   \n",
              "\n",
              "        Time from Pickup to Arrival  \n",
              "count                  21201.000000  \n",
              "unique                          NaN  \n",
              "top                             NaN  \n",
              "freq                            NaN  \n",
              "mean                    1556.920947  \n",
              "std                      987.270788  \n",
              "min                        1.000000  \n",
              "25%                      882.000000  \n",
              "50%                     1369.000000  \n",
              "75%                     2040.000000  \n",
              "max                     7883.000000  "
            ]
          },
          "metadata": {},
          "execution_count": 5
        }
      ],
      "source": [
        "df.describe(include=\"all\")"
      ]
    },
    {
      "cell_type": "code",
      "execution_count": null,
      "metadata": {
        "id": "jwrXBDZvPkgE"
      },
      "outputs": [],
      "source": [
        "data = df.copy()\n",
        "data.dropna(inplace=True)\n",
        "\n",
        "data[\"Arrival at Destination - Time\"] = pd.to_timedelta(data[\"Arrival at Destination - Time\"])\n",
        "data[\"Pickup - Time\"] = pd.to_timedelta(data[\"Pickup - Time\"])\n",
        "\n",
        "data[\"time\"] = data[\"Arrival at Destination - Time\"] - data[\"Pickup - Time\"]\n",
        "data[\"second\"] = data.time.apply(lambda x:int(str(x)[-5:][:2]))*60"
      ]
    },
    {
      "cell_type": "code",
      "execution_count": null,
      "metadata": {
        "id": "B3pJFS0fPkgF"
      },
      "outputs": [],
      "source": [
        "data = data[[\"Temperature\", \"Platform Type\", \"Confirmation - Day of Month\", \"Placement - Day of Month\", \"Placement - Weekday (Mo = 1)\", \"second\"]]"
      ]
    },
    {
      "cell_type": "code",
      "execution_count": null,
      "metadata": {
        "colab": {
          "base_uri": "https://localhost:8080/"
        },
        "id": "jLs28xBSPkgG",
        "outputId": "45d93faf-6f97-48bf-dc0c-24c9ec209e61"
      },
      "outputs": [
        {
          "output_type": "execute_result",
          "data": {
            "text/plain": [
              "RandomForestRegressor()"
            ]
          },
          "metadata": {},
          "execution_count": 8
        }
      ],
      "source": [
        "# creating base model\n",
        "from sklearn.ensemble import RandomForestRegressor\n",
        "model = RandomForestRegressor()\n",
        "model.fit(data.drop(\"second\", axis=1), data.second)"
      ]
    },
    {
      "cell_type": "code",
      "execution_count": null,
      "metadata": {
        "colab": {
          "base_uri": "https://localhost:8080/"
        },
        "id": "92d6DHkrPkgG",
        "outputId": "e4993193-ef96-40ca-ed32-4a31e1583375"
      },
      "outputs": [
        {
          "output_type": "execute_result",
          "data": {
            "text/plain": [
              "0.4322838593496994"
            ]
          },
          "metadata": {},
          "execution_count": 9
        }
      ],
      "source": [
        "model.score(data.drop(\"second\", axis=1), data.second)"
      ]
    },
    {
      "cell_type": "markdown",
      "metadata": {
        "id": "lnkIwyO7PkgH"
      },
      "source": [
        "# Feature Engineering"
      ]
    },
    {
      "cell_type": "markdown",
      "metadata": {
        "id": "OkaPfm_MPkgH"
      },
      "source": [
        "### Handling Categorical Features"
      ]
    },
    {
      "cell_type": "code",
      "execution_count": null,
      "metadata": {
        "id": "PRjsF_MVPkgH"
      },
      "outputs": [],
      "source": [
        "# Encoding categorical features\n",
        "from sklearn.preprocessing import LabelEncoder\n",
        "encoder = LabelEncoder()\n",
        "\n",
        "cols = [\"Vehicle Type\", \"Personal or Business\"]\n",
        "for i in cols:\n",
        "    df[i] = encoder.fit_transform(df[i])"
      ]
    },
    {
      "cell_type": "markdown",
      "metadata": {
        "id": "N2z8PQJzPkgH"
      },
      "source": [
        "### Handling Missing Values"
      ]
    },
    {
      "cell_type": "code",
      "execution_count": null,
      "metadata": {
        "id": "RSRPcRoJPkgI"
      },
      "outputs": [],
      "source": [
        "# Filling NAN values in temperature field\n",
        "df[\"Temperature\"].fillna(value=df.Temperature.mean(), inplace=True)"
      ]
    },
    {
      "cell_type": "code",
      "execution_count": null,
      "metadata": {
        "id": "y-t7femoPkgI"
      },
      "outputs": [],
      "source": [
        "# Dropping empty feature and Primary Keys\n",
        "df.drop([\"Precipitation in millimeters\", \"Order No\", \"User Id\", \"Rider Id\"], axis=1, inplace=True)"
      ]
    },
    {
      "cell_type": "markdown",
      "metadata": {
        "id": "W5Lzl6wsPkgJ"
      },
      "source": [
        "### Handling Outliers"
      ]
    },
    {
      "cell_type": "code",
      "execution_count": null,
      "metadata": {
        "colab": {
          "base_uri": "https://localhost:8080/",
          "height": 279
        },
        "id": "dT5yKFggPkgJ",
        "outputId": "ae0ac0b0-4013-40c5-ae91-2f585e098a55"
      },
      "outputs": [
        {
          "output_type": "display_data",
          "data": {
            "image/png": "[encoded data removed]",
            "text/plain": [
              "<Figure size 432x288 with 1 Axes>"
            ]
          },
          "metadata": {
            "needs_background": "light"
          }
        }
      ],
      "source": [
        "sns.boxplot(df.Temperature)\n",
        "plt.show()"
      ]
    },
    {
      "cell_type": "code",
      "execution_count": null,
      "metadata": {
        "colab": {
          "base_uri": "https://localhost:8080/",
          "height": 279
        },
        "id": "AHFrobhrPkgJ",
        "outputId": "f8a21f5f-c1f5-4b38-a611-53165a116de3"
      },
      "outputs": [
        {
          "output_type": "display_data",
          "data": {
            "image/png": "[encoded data removed]",
            "text/plain": [
              "<Figure size 432x288 with 1 Axes>"
            ]
          },
          "metadata": {
            "needs_background": "light"
          }
        }
      ],
      "source": [
        "sns.boxplot(df[\"Time from Pickup to Arrival\"])\n",
        "plt.show()"
      ]
    },
    {
      "cell_type": "code",
      "execution_count": null,
      "metadata": {
        "colab": {
          "base_uri": "https://localhost:8080/"
        },
        "id": "JRnJdnorPkgK",
        "outputId": "5b25f5c8-8002-4243-f020-0d6fdf92c025"
      },
      "outputs": [
        {
          "output_type": "stream",
          "name": "stdout",
          "text": [
            "Vehicle Type                                   0\n",
            "Platform Type                                  0\n",
            "Personal or Business                           0\n",
            "Placement - Day of Month                       0\n",
            "Placement - Weekday (Mo = 1)                   0\n",
            "Placement - Time                               0\n",
            "Confirmation - Day of Month                    0\n",
            "Confirmation - Weekday (Mo = 1)                0\n",
            "Confirmation - Time                            0\n",
            "Arrival at Pickup - Day of Month               0\n",
            "Arrival at Pickup - Weekday (Mo = 1)           0\n",
            "Arrival at Pickup - Time                       0\n",
            "Pickup - Day of Month                          0\n",
            "Pickup - Weekday (Mo = 1)                      0\n",
            "Pickup - Time                                  0\n",
            "Arrival at Destination - Day of Month          0\n",
            "Arrival at Destination - Weekday (Mo = 1)      0\n",
            "Arrival at Destination - Time                  0\n",
            "Distance (KM)                                  0\n",
            "Temperature                                  362\n",
            "Pickup Lat                                     0\n",
            "Pickup Long                                    0\n",
            "Destination Lat                                0\n",
            "Destination Long                               0\n",
            "Time from Pickup to Arrival                  775\n",
            "dtype: int64\n"
          ]
        }
      ],
      "source": [
        "cols = [\"Temperature\", \"Time from Pickup to Arrival\"]\n",
        "\n",
        "df_n = df.copy()\n",
        "\n",
        "# lets try to remove the outliers\n",
        "for x in df[cols].columns.tolist():\n",
        "    q75,q25 = np.percentile(df.loc[:,x],[75,25])\n",
        "    intr_qr = q75-q25\n",
        " \n",
        "    max = q75+(1.5*intr_qr)\n",
        "    min = q25-(1.5*intr_qr)\n",
        " \n",
        "    df_n.loc[df[x] < min,x] = np.nan\n",
        "    df_n.loc[df[x] > max,x] = np.nan\n",
        "\n",
        "# lets try to check the sum of count of NULL values/outliers in each column of the dataset\n",
        "print(df_n.isnull().sum())\n",
        "df = df_n.dropna(axis = 0)"
      ]
    },
    {
      "cell_type": "code",
      "execution_count": null,
      "metadata": {
        "id": "IS0U7GvFPkgK"
      },
      "outputs": [],
      "source": [
        "# Resetting index\n",
        "df.reset_index(drop=True, inplace=True)"
      ]
    },
    {
      "cell_type": "markdown",
      "metadata": {
        "id": "ceFNBg2NPkgK"
      },
      "source": [
        "### Feature Construction"
      ]
    },
    {
      "cell_type": "code",
      "execution_count": null,
      "metadata": {
        "colab": {
          "base_uri": "https://localhost:8080/"
        },
        "id": "D0nIgfmKPkgL",
        "outputId": "54572c93-3f08-442e-ad4c-818b928e0352"
      },
      "outputs": [
        {
          "output_type": "stream",
          "name": "stdout",
          "text": [
            "Collecting mpu\n",
            "  Downloading mpu-0.23.1-py3-none-any.whl (69 kB)\n",
            "\u001b[?25l\r\u001b[K     |████▊                           | 10 kB 25.7 MB/s eta 0:00:01\r\u001b[K     |█████████▍                      | 20 kB 10.7 MB/s eta 0:00:01\r\u001b[K     |██████████████                  | 30 kB 8.7 MB/s eta 0:00:01\r\u001b[K     |██████████████████▉             | 40 kB 7.8 MB/s eta 0:00:01\r\u001b[K     |███████████████████████▌        | 51 kB 4.9 MB/s eta 0:00:01\r\u001b[K     |████████████████████████████▏   | 61 kB 5.1 MB/s eta 0:00:01\r\u001b[K     |████████████████████████████████| 69 kB 3.1 MB/s \n",
            "\u001b[?25hInstalling collected packages: mpu\n",
            "Successfully installed mpu-0.23.1\n"
          ]
        }
      ],
      "source": [
        "!pip install mpu\n",
        "import mpu"
      ]
    },
    {
      "cell_type": "code",
      "execution_count": null,
      "metadata": {
        "id": "2iWRKK4XPkgL"
      },
      "outputs": [],
      "source": [
        "# Calculating distance\n",
        "distance = []\n",
        "for i in range(len(df)):\n",
        "    cord1 = (df[\"Pickup Lat\"][i], df[\"Pickup Long\"][i])\n",
        "    cord2 = (df[\"Destination Lat\"][i], df[\"Destination Long\"][i])\n",
        "    dist = mpu.haversine_distance(cord1, cord2)*1000\n",
        "    distance.append(dist)\n",
        "\n",
        "df[\"distance\"] = distance"
      ]
    },
    {
      "cell_type": "code",
      "execution_count": null,
      "metadata": {
        "id": "DSrKdvoSPkgL"
      },
      "outputs": [],
      "source": [
        "# Calculating time\n",
        "df[\"Arrival at Destination - Time\"] = pd.to_timedelta(df[\"Arrival at Destination - Time\"])\n",
        "df[\"Pickup - Time\"] = pd.to_timedelta(df[\"Pickup - Time\"])\n",
        "\n",
        "df[\"time\"] = df[\"Arrival at Destination - Time\"] - df[\"Pickup - Time\"]\n",
        "df[\"second\"] = df.time.apply(lambda x:int(str(x)[-5:][:2]))*60"
      ]
    },
    {
      "cell_type": "code",
      "execution_count": null,
      "metadata": {
        "id": "UdI87DddPkgL"
      },
      "outputs": [],
      "source": [
        "# Calculatin Speed\n",
        "df[\"speed\"] = df[\"distance\"]/df[\"second\"]"
      ]
    },
    {
      "cell_type": "code",
      "execution_count": null,
      "metadata": {
        "id": "IykbjRwrPkgL"
      },
      "outputs": [],
      "source": [
        "# Dropping time feature\n",
        "df.drop([\"Placement - Time\", \"Confirmation - Time\", \"Pickup - Time\", \"time\", \"Arrival at Pickup - Time\", \"Arrival at Destination - Time\"], axis=1, inplace=True)"
      ]
    },
    {
      "cell_type": "code",
      "execution_count": null,
      "metadata": {
        "id": "ndtgg6S8PkgL"
      },
      "outputs": [],
      "source": [
        "df.drop(df[df.speed == float(\"inf\")].index, axis=0, inplace=True)"
      ]
    },
    {
      "cell_type": "markdown",
      "metadata": {
        "id": "VOiTnTNfPkgM"
      },
      "source": [
        "### Feature Scaling"
      ]
    },
    {
      "cell_type": "code",
      "execution_count": null,
      "metadata": {
        "id": "DwIk63VzPkgM"
      },
      "outputs": [],
      "source": [
        "X = df.drop(\"Time from Pickup to Arrival\", axis=1)\n",
        "y = df[\"Time from Pickup to Arrival\"]"
      ]
    },
    {
      "cell_type": "code",
      "execution_count": null,
      "metadata": {
        "scrolled": false,
        "id": "4XWmRQYrPkgM"
      },
      "outputs": [],
      "source": [
        "# Scaling data\n",
        "from sklearn.preprocessing import MinMaxScaler\n",
        "scaler = MinMaxScaler()\n",
        "\n",
        "X = scaler.fit_transform(X)"
      ]
    },
    {
      "cell_type": "markdown",
      "metadata": {
        "id": "PMU7OdoqPkgM"
      },
      "source": [
        "### Feature Selection"
      ]
    },
    {
      "cell_type": "code",
      "execution_count": null,
      "metadata": {
        "colab": {
          "base_uri": "https://localhost:8080/"
        },
        "id": "OJdOeixbPkgM",
        "outputId": "065c39a4-bded-4163-e5b8-cb13bc96d3a4"
      },
      "outputs": [
        {
          "output_type": "execute_result",
          "data": {
            "text/plain": [
              "SelectKBest(k=15, score_func=<function chi2 at 0x7f2400acf950>)"
            ]
          },
          "metadata": {},
          "execution_count": 27
        }
      ],
      "source": [
        "from sklearn.feature_selection import SelectKBest, chi2\n",
        "\n",
        "selector = SelectKBest(chi2,k=15)\n",
        "selector.fit(X, y)"
      ]
    },
    {
      "cell_type": "code",
      "execution_count": null,
      "metadata": {
        "id": "X8-CqLsLPkgM"
      },
      "outputs": [],
      "source": [
        "X = selector.transform(X)"
      ]
    },
    {
      "cell_type": "code",
      "execution_count": null,
      "metadata": {
        "id": "eT_lU81lPkgN"
      },
      "outputs": [],
      "source": [
        "from sklearn.decomposition import PCA\n",
        "pca = PCA(n_components=10)\n",
        "X = pca.fit_transform(X, y)"
      ]
    },
    {
      "cell_type": "code",
      "execution_count": null,
      "metadata": {
        "colab": {
          "base_uri": "https://localhost:8080/"
        },
        "id": "OEBzybQXPkgN",
        "outputId": "be4c2861-5b98-4782-8d66-db1de4b79d42"
      },
      "outputs": [
        {
          "output_type": "execute_result",
          "data": {
            "text/plain": [
              "array([[-4.07256865e-01,  7.03667187e-01, -2.21243995e-01, ...,\n",
              "        -1.39463354e-05,  3.76345429e-16,  1.29276155e-30],\n",
              "       [-1.89384127e-01,  7.35235037e-01,  7.69829695e-01, ...,\n",
              "         5.74449156e-06,  8.04095704e-17, -1.76596690e-31],\n",
              "       [ 9.96985155e-01, -6.08873346e-01, -1.38356751e-01, ...,\n",
              "        -7.12672137e-06, -7.03433593e-17, -1.25121206e-31],\n",
              "       ...,\n",
              "       [-6.25929018e-02,  1.03311741e+00, -2.41961240e-01, ...,\n",
              "         4.18876215e-06,  6.78166885e-18,  4.44947306e-33],\n",
              "       [-6.06931918e-01,  3.55967419e-01, -2.11845334e-01, ...,\n",
              "        -3.21311996e-05, -1.77097602e-17,  5.09352922e-33],\n",
              "       [ 6.99416976e-01, -5.68552648e-01, -1.49422278e-01, ...,\n",
              "        -4.92877481e-05, -8.66319766e-19, -1.40513255e-32]])"
            ]
          },
          "metadata": {},
          "execution_count": 30
        }
      ],
      "source": [
        "X"
      ]
    },
    {
      "cell_type": "code",
      "execution_count": null,
      "metadata": {
        "colab": {
          "base_uri": "https://localhost:8080/"
        },
        "id": "ePBa04tdPkgN",
        "outputId": "a019a3c9-5537-464e-8d54-83cd95f8ba21"
      },
      "outputs": [
        {
          "output_type": "execute_result",
          "data": {
            "text/plain": [
              "RandomForestRegressor()"
            ]
          },
          "metadata": {},
          "execution_count": 31
        }
      ],
      "source": [
        "model = RandomForestRegressor()\n",
        "model.fit(X, y)"
      ]
    },
    {
      "cell_type": "code",
      "execution_count": null,
      "metadata": {
        "colab": {
          "base_uri": "https://localhost:8080/"
        },
        "id": "s-7WDBjQPkgN",
        "outputId": "45af4e61-524e-410b-8ec8-6a0b284cc80c"
      },
      "outputs": [
        {
          "output_type": "execute_result",
          "data": {
            "text/plain": [
              "0.9932444091736254"
            ]
          },
          "metadata": {},
          "execution_count": 32
        }
      ],
      "source": [
        "model.score(X, y)"
      ]
    },
    {
      "cell_type": "markdown",
      "metadata": {
        "id": "0eO5Ler8PkgN"
      },
      "source": [
        "## <font color='#2F4F4F'>Summary of Findings</font>\n",
        "\n",
        "What are your findings?\n",
        "\n",
        "Feature selection is an important step while working with a machine learning project. New features were created. There were 29 features and after completing the feature engineering there were fewer features.\n",
        "\n",
        "And with respect to modeling before and after the faturing, there was a noticeable improvement in the performances of models. Before feature engineering the model's score was around 44% but after feature its score was around 99%."
      ]
    },
    {
      "cell_type": "markdown",
      "metadata": {
        "id": "iREiRiiRPkgO"
      },
      "source": [
        "## <font color='#2F4F4F'>Challenging your Solution</font>\n",
        "\n",
        "#### a) Did we have the right question?\n",
        "\n",
        "Yes\n",
        "\n",
        "#### b) Did we have the right data?\n",
        "\n",
        "Yes\n",
        "\n"
      ]
    }
  ],
  "metadata": {
    "kernelspec": {
      "display_name": "Python 3",
      "language": "python",
      "name": "python3"
    },
    "language_info": {
      "codemirror_mode": {
        "name": "ipython",
        "version": 3
      },
      "file_extension": ".py",
      "mimetype": "text/x-python",
      "name": "python",
      "nbconvert_exporter": "python",
      "pygments_lexer": "ipython3",
      "version": "3.8.5"
    },
    "colab": {
      "name": "Feature-Engineering-with-Python.ipynb",
      "provenance": []
    }
  },
  "nbformat": 4,
  "nbformat_minor": 0
}